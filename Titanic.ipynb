{
  "nbformat": 4,
  "nbformat_minor": 0,
  "metadata": {
    "colab": {
      "provenance": [],
      "include_colab_link": true
    },
    "kernelspec": {
      "name": "ir",
      "display_name": "R"
    },
    "language_info": {
      "name": "R"
    }
  },
  "cells": [
    {
      "cell_type": "markdown",
      "metadata": {
        "id": "view-in-github",
        "colab_type": "text"
      },
      "source": [
        "<a href=\"https://colab.research.google.com/github/songKanawat/bootcamp_projects/blob/main/Titanic.ipynb\" target=\"_parent\"><img src=\"https://colab.research.google.com/assets/colab-badge.svg\" alt=\"Open In Colab\"/></a>"
      ]
    },
    {
      "cell_type": "markdown",
      "source": [
        "# Loading Library & dataset"
      ],
      "metadata": {
        "id": "8tF7DxPKdojT"
      }
    },
    {
      "cell_type": "code",
      "source": [
        "#Install packages if not already installed\n",
        "#install.packages(c(\"tidyverse\",\n",
        "#                   \"titanic\",\n",
        "#                   \"ggthemes\"))\n",
        "library(tidyverse)\n",
        "library(ggthemes)\n",
        "library(titanic)"
      ],
      "metadata": {
        "colab": {
          "base_uri": "https://localhost:8080/",
          "height": 356
        },
        "id": "fFGFJjhTeVVY",
        "outputId": "27c18e1b-0759-4bc9-ce33-72dc7cd97209"
      },
      "execution_count": 1,
      "outputs": [
        {
          "output_type": "stream",
          "name": "stderr",
          "text": [
            "Warning message in system(\"timedatectl\", intern = TRUE):\n",
            "“running command 'timedatectl' had status 1”\n",
            "── \u001b[1mAttaching packages\u001b[22m ─────────────────────────────────────── tidyverse 1.3.1 ──\n",
            "\n",
            "\u001b[32m✔\u001b[39m \u001b[34mggplot2\u001b[39m 3.4.1     \u001b[32m✔\u001b[39m \u001b[34mpurrr  \u001b[39m 1.0.1\n",
            "\u001b[32m✔\u001b[39m \u001b[34mtibble \u001b[39m 3.1.8     \u001b[32m✔\u001b[39m \u001b[34mdplyr  \u001b[39m 1.1.0\n",
            "\u001b[32m✔\u001b[39m \u001b[34mtidyr  \u001b[39m 1.3.0     \u001b[32m✔\u001b[39m \u001b[34mstringr\u001b[39m 1.4.1\n",
            "\u001b[32m✔\u001b[39m \u001b[34mreadr  \u001b[39m 2.1.4     \u001b[32m✔\u001b[39m \u001b[34mforcats\u001b[39m 1.0.0\n",
            "\n",
            "── \u001b[1mConflicts\u001b[22m ────────────────────────────────────────── tidyverse_conflicts() ──\n",
            "\u001b[31m✖\u001b[39m \u001b[34mdplyr\u001b[39m::\u001b[32mfilter()\u001b[39m masks \u001b[34mstats\u001b[39m::filter()\n",
            "\u001b[31m✖\u001b[39m \u001b[34mdplyr\u001b[39m::\u001b[32mlag()\u001b[39m    masks \u001b[34mstats\u001b[39m::lag()\n",
            "\n"
          ]
        },
        {
          "output_type": "error",
          "ename": "ERROR",
          "evalue": "ignored",
          "traceback": [
            "Error in library(ggthemes): there is no package called ‘ggthemes’\nTraceback:\n",
            "1. library(ggthemes)"
          ]
        }
      ]
    },
    {
      "cell_type": "markdown",
      "source": [
        "## Preview Data"
      ],
      "metadata": {
        "id": "dqJ3e1s7fYgo"
      }
    },
    {
      "cell_type": "code",
      "source": [
        "#head(titanic_train)\n",
        "#tail(titanic_train)\n",
        "glimpse(titanic_train)\n",
        "#View(titanic_train)"
      ],
      "metadata": {
        "colab": {
          "base_uri": "https://localhost:8080/"
        },
        "id": "7unbWilcfafj",
        "outputId": "5a836ef4-40dc-4de5-a96e-901ff8830b90"
      },
      "execution_count": null,
      "outputs": [
        {
          "output_type": "stream",
          "name": "stdout",
          "text": [
            "Rows: 891\n",
            "Columns: 12\n",
            "$ PassengerId \u001b[3m\u001b[90m<int>\u001b[39m\u001b[23m 1, 2, 3, 4, 5, 6, 7, 8, 9, 10, 11, 12, 13, 14, 15, 16, 17,…\n",
            "$ Survived    \u001b[3m\u001b[90m<int>\u001b[39m\u001b[23m 0, 1, 1, 1, 0, 0, 0, 0, 1, 1, 1, 1, 0, 0, 0, 1, 0, 1, 0, 1…\n",
            "$ Pclass      \u001b[3m\u001b[90m<int>\u001b[39m\u001b[23m 3, 1, 3, 1, 3, 3, 1, 3, 3, 2, 3, 1, 3, 3, 3, 2, 3, 2, 3, 3…\n",
            "$ Name        \u001b[3m\u001b[90m<chr>\u001b[39m\u001b[23m \"Braund, Mr. Owen Harris\", \"Cumings, Mrs. John Bradley (Fl…\n",
            "$ Sex         \u001b[3m\u001b[90m<chr>\u001b[39m\u001b[23m \"male\", \"female\", \"female\", \"female\", \"male\", \"male\", \"mal…\n",
            "$ Age         \u001b[3m\u001b[90m<dbl>\u001b[39m\u001b[23m 22, 38, 26, 35, 35, NA, 54, 2, 27, 14, 4, 58, 20, 39, 14, …\n",
            "$ SibSp       \u001b[3m\u001b[90m<int>\u001b[39m\u001b[23m 1, 1, 0, 1, 0, 0, 0, 3, 0, 1, 1, 0, 0, 1, 0, 0, 4, 0, 1, 0…\n",
            "$ Parch       \u001b[3m\u001b[90m<int>\u001b[39m\u001b[23m 0, 0, 0, 0, 0, 0, 0, 1, 2, 0, 1, 0, 0, 5, 0, 0, 1, 0, 0, 0…\n",
            "$ Ticket      \u001b[3m\u001b[90m<chr>\u001b[39m\u001b[23m \"A/5 21171\", \"PC 17599\", \"STON/O2. 3101282\", \"113803\", \"37…\n",
            "$ Fare        \u001b[3m\u001b[90m<dbl>\u001b[39m\u001b[23m 7.2500, 71.2833, 7.9250, 53.1000, 8.0500, 8.4583, 51.8625,…\n",
            "$ Cabin       \u001b[3m\u001b[90m<chr>\u001b[39m\u001b[23m \"\", \"C85\", \"\", \"C123\", \"\", \"\", \"E46\", \"\", \"\", \"\", \"G6\", \"C…\n",
            "$ Embarked    \u001b[3m\u001b[90m<chr>\u001b[39m\u001b[23m \"S\", \"C\", \"S\", \"S\", \"S\", \"Q\", \"S\", \"S\", \"S\", \"C\", \"S\", \"S\"…\n"
          ]
        }
      ]
    },
    {
      "cell_type": "markdown",
      "source": [
        "## Prep Data"
      ],
      "metadata": {
        "id": "vOq8t0bWfiUZ"
      }
    },
    {
      "cell_type": "code",
      "source": [
        "# Drop NA (missing value)\n",
        "titanic_train <- na.omit(titanic_train)\n",
        "#nrow(titanic_train)\n",
        "\n",
        "# Convert the data type of the Survived column to factor\n",
        "titanic_train <- titanic_train %>% \n",
        "  mutate(Survived = factor(Survived,\n",
        "                           levels = c(0, 1),\n",
        "                           labels = c(\"Died\", \"Survived\")))\n",
        "# Recheck if 'Survived' column is factor\n",
        "#head(titanic_train)\n",
        "glimpse(titanic_train)"
      ],
      "metadata": {
        "colab": {
          "base_uri": "https://localhost:8080/"
        },
        "id": "J0wYBZu0fmWB",
        "outputId": "161d636a-b38f-4c8f-cf60-f74dd152eb80"
      },
      "execution_count": null,
      "outputs": [
        {
          "output_type": "stream",
          "name": "stdout",
          "text": [
            "Rows: 714\n",
            "Columns: 12\n",
            "$ PassengerId \u001b[3m\u001b[90m<int>\u001b[39m\u001b[23m 1, 2, 3, 4, 5, 7, 8, 9, 10, 11, 12, 13, 14, 15, 16, 17, 19…\n",
            "$ Survived    \u001b[3m\u001b[90m<fct>\u001b[39m\u001b[23m Died, Survived, Survived, Survived, Died, Died, Died, Surv…\n",
            "$ Pclass      \u001b[3m\u001b[90m<int>\u001b[39m\u001b[23m 3, 1, 3, 1, 3, 1, 3, 3, 2, 3, 1, 3, 3, 3, 2, 3, 3, 2, 2, 3…\n",
            "$ Name        \u001b[3m\u001b[90m<chr>\u001b[39m\u001b[23m \"Braund, Mr. Owen Harris\", \"Cumings, Mrs. John Bradley (Fl…\n",
            "$ Sex         \u001b[3m\u001b[90m<chr>\u001b[39m\u001b[23m \"male\", \"female\", \"female\", \"female\", \"male\", \"male\", \"mal…\n",
            "$ Age         \u001b[3m\u001b[90m<dbl>\u001b[39m\u001b[23m 22, 38, 26, 35, 35, 54, 2, 27, 14, 4, 58, 20, 39, 14, 55, …\n",
            "$ SibSp       \u001b[3m\u001b[90m<int>\u001b[39m\u001b[23m 1, 1, 0, 1, 0, 0, 3, 0, 1, 1, 0, 0, 1, 0, 0, 4, 1, 0, 0, 0…\n",
            "$ Parch       \u001b[3m\u001b[90m<int>\u001b[39m\u001b[23m 0, 0, 0, 0, 0, 0, 1, 2, 0, 1, 0, 0, 5, 0, 0, 1, 0, 0, 0, 0…\n",
            "$ Ticket      \u001b[3m\u001b[90m<chr>\u001b[39m\u001b[23m \"A/5 21171\", \"PC 17599\", \"STON/O2. 3101282\", \"113803\", \"37…\n",
            "$ Fare        \u001b[3m\u001b[90m<dbl>\u001b[39m\u001b[23m 7.2500, 71.2833, 7.9250, 53.1000, 8.0500, 51.8625, 21.0750…\n",
            "$ Cabin       \u001b[3m\u001b[90m<chr>\u001b[39m\u001b[23m \"\", \"C85\", \"\", \"C123\", \"\", \"E46\", \"\", \"\", \"\", \"G6\", \"C103\"…\n",
            "$ Embarked    \u001b[3m\u001b[90m<chr>\u001b[39m\u001b[23m \"S\", \"C\", \"S\", \"S\", \"S\", \"S\", \"S\", \"S\", \"C\", \"S\", \"S\", \"S\"…\n"
          ]
        }
      ]
    },
    {
      "cell_type": "markdown",
      "source": [
        "## Split Data"
      ],
      "metadata": {
        "id": "NvO_RXiffybe"
      }
    },
    {
      "cell_type": "code",
      "source": [
        "## Split Data\n",
        "set.seed(34)\n",
        "n <- nrow(titanic_train)\n",
        "id <- sample(1:n, size = n*0.7) ## 70% train 30% test\n",
        "train_data <- titanic_train[id, ]\n",
        "test_data <- titanic_train[-id, ] # minus for the rest\n",
        "\n",
        "# check split row numbers\n",
        "nrow(train_data)\n",
        "nrow(test_data)"
      ],
      "metadata": {
        "colab": {
          "base_uri": "https://localhost:8080/",
          "height": 52
        },
        "id": "u1SPOo6tf1ZT",
        "outputId": "6aba0612-e455-4441-898c-b54e4069d16f"
      },
      "execution_count": null,
      "outputs": [
        {
          "output_type": "display_data",
          "data": {
            "text/html": [
              "499"
            ],
            "text/markdown": "499",
            "text/latex": "499",
            "text/plain": [
              "[1] 499"
            ]
          },
          "metadata": {}
        },
        {
          "output_type": "display_data",
          "data": {
            "text/html": [
              "215"
            ],
            "text/markdown": "215",
            "text/latex": "215",
            "text/plain": [
              "[1] 215"
            ]
          },
          "metadata": {}
        }
      ]
    },
    {
      "cell_type": "markdown",
      "source": [
        "## Train Model"
      ],
      "metadata": {
        "id": "1n80Li7FgN-7"
      }
    },
    {
      "cell_type": "code",
      "source": [
        "## Train Model\n",
        "# Fit Logistic Regression with trained dataset\n",
        "model_train <- glm(Survived ~ Pclass + Age, data = train_data, family = \"binomial\")\n",
        "summary(model_train)\n",
        "\n",
        "train_data$prob_survived <- predict(model_train, type=\"response\") ## probability\n",
        "train_data$pred_survived <- if_else(train_data$prob_survived >= 0.5, \"Survived\", \"Died\")\n",
        "\n",
        "error_train <- train_data$prob_survived\n",
        "rmse_train <- sqrt(mean( error_train**2 ))\n",
        "## Evaluate Model\n",
        "# confusion matrix\n",
        "train_conM <- table(train_data$pred_survived, train_data$Survived,\n",
        "              dnn = c(\"Predicted\", \"Actual\")) #dnn = the dimnames names\n",
        "\n",
        "\n",
        "train_acc <- (train_conM[1,1] + train_conM[2,2]) / sum(train_conM)\n",
        "train_prec <- train_conM[2,2] / (train_conM[2,1] +train_conM[2,2])\n",
        "train_rcall <- train_conM[2,2] / (train_conM[1,2] +train_conM[2,2])\n",
        "train_f1 <- 2 * ( (train_prec*train_rcall)/(train_prec+train_rcall) )\n",
        "\n",
        "cat(\"Training data's RMSE:\", rmse_train,\n",
        "    \"\\nTraining data's Confusion Matrix\",\n",
        "    \"\\n    train_Accuracy:\", train_acc,\n",
        "    \"\\n    train_Precision:\", train_prec,\n",
        "    \"\\n    train_Recall:\", train_rcall,\n",
        "    \"\\n    train_F1 Score:\", train_f1)"
      ],
      "metadata": {
        "colab": {
          "base_uri": "https://localhost:8080/",
          "height": 520
        },
        "id": "ZlO3r6MZgQ7N",
        "outputId": "ae8a0e4a-7792-4f97-c178-82a874336908"
      },
      "execution_count": null,
      "outputs": [
        {
          "output_type": "display_data",
          "data": {
            "text/plain": [
              "\n",
              "Call:\n",
              "glm(formula = Survived ~ Pclass + Age, family = \"binomial\", data = train_data)\n",
              "\n",
              "Deviance Residuals: \n",
              "    Min       1Q   Median       3Q      Max  \n",
              "-2.1697  -0.8539  -0.6223   1.0122   2.3983  \n",
              "\n",
              "Coefficients:\n",
              "             Estimate Std. Error z value Pr(>|z|)    \n",
              "(Intercept)  3.579095   0.495881   7.218 5.29e-13 ***\n",
              "Pclass      -1.240124   0.143826  -8.622  < 2e-16 ***\n",
              "Age         -0.042487   0.008064  -5.268 1.38e-07 ***\n",
              "---\n",
              "Signif. codes:  0 ‘***’ 0.001 ‘**’ 0.01 ‘*’ 0.05 ‘.’ 0.1 ‘ ’ 1\n",
              "\n",
              "(Dispersion parameter for binomial family taken to be 1)\n",
              "\n",
              "    Null deviance: 671.99  on 498  degrees of freedom\n",
              "Residual deviance: 579.05  on 496  degrees of freedom\n",
              "AIC: 585.05\n",
              "\n",
              "Number of Fisher Scoring iterations: 4\n"
            ]
          },
          "metadata": {}
        },
        {
          "output_type": "stream",
          "name": "stdout",
          "text": [
            "Training data's RMSE: 0.4507974 \n",
            "Training data's Confusion Matrix \n",
            "    train_Accuracy: 0.6953908 \n",
            "    train_Precision: 0.6578947 \n",
            "    train_Recall: 0.5 \n",
            "    train_F1 Score: 0.5681818"
          ]
        }
      ]
    },
    {
      "cell_type": "markdown",
      "source": [
        "## Test Model"
      ],
      "metadata": {
        "id": "LamUpaDBga6I"
      }
    },
    {
      "cell_type": "code",
      "source": [
        "## Test Model\n",
        "# Fit Logistic Regression with tested dataset\n",
        "model_test <- glm(Survived ~ Pclass + Age, data = test_data, family = \"binomial\")\n",
        "summary(model_test)\n",
        "\n",
        "test_data$prob_survived <- predict(model_test, type=\"response\") ## probability\n",
        "test_data$pred_survived <- if_else(test_data$prob_survived >= 0.5, \"Survived\", \"Died\")\n",
        "\n",
        "error_test <- test_data$prob_survived\n",
        "rmse_test <- sqrt(mean( error_test**2 ))\n",
        "## Evaluate Model\n",
        "# confusion matrix\n",
        "test_conM <- table(test_data$pred_survived, test_data$Survived,\n",
        "              dnn = c(\"Predicted\", \"Actual\")) #dnn = the dimnames names\n",
        "\n",
        "\n",
        "test_acc <- (test_conM[1,1] + test_conM[2,2]) / sum(test_conM)\n",
        "test_prec <- test_conM[2,2] / (test_conM[2,1] +test_conM[2,2])\n",
        "test_rcall <- test_conM[2,2] / (test_conM[1,2] +test_conM[2,2])\n",
        "test_f1 <- 2 * ( (test_prec*test_rcall)/(test_prec+test_rcall) )\n",
        "\n",
        "cat(\"Testing data's RMSE:\", rmse_test,\n",
        "    \"\\nTesting data's Confusion Matrix\",\n",
        "    \"\\n    test_Accuracy:\", test_acc,\n",
        "    \"\\n    test_Precision:\", test_prec,\n",
        "    \"\\n    test_Recall:\", test_rcall,\n",
        "    \"\\n    test_F1 Score:\", test_f1)"
      ],
      "metadata": {
        "colab": {
          "base_uri": "https://localhost:8080/",
          "height": 520
        },
        "id": "djuBQPcBgeD7",
        "outputId": "4f5a0530-8386-4392-a8d8-d3512da2f705"
      },
      "execution_count": null,
      "outputs": [
        {
          "output_type": "display_data",
          "data": {
            "text/plain": [
              "\n",
              "Call:\n",
              "glm(formula = Survived ~ Pclass + Age, family = \"binomial\", data = test_data)\n",
              "\n",
              "Deviance Residuals: \n",
              "    Min       1Q   Median       3Q      Max  \n",
              "-1.8942  -0.8341  -0.6112   0.9813   2.0567  \n",
              "\n",
              "Coefficients:\n",
              "            Estimate Std. Error z value Pr(>|z|)    \n",
              "(Intercept)  3.59310    0.71134   5.051 4.39e-07 ***\n",
              "Pclass      -1.25466    0.21287  -5.894 3.77e-09 ***\n",
              "Age         -0.04034    0.01233  -3.271  0.00107 ** \n",
              "---\n",
              "Signif. codes:  0 ‘***’ 0.001 ‘**’ 0.01 ‘*’ 0.05 ‘.’ 0.1 ‘ ’ 1\n",
              "\n",
              "(Dispersion parameter for binomial family taken to be 1)\n",
              "\n",
              "    Null deviance: 292.33  on 214  degrees of freedom\n",
              "Residual deviance: 248.28  on 212  degrees of freedom\n",
              "AIC: 254.28\n",
              "\n",
              "Number of Fisher Scoring iterations: 4\n"
            ]
          },
          "metadata": {}
        },
        {
          "output_type": "stream",
          "name": "stdout",
          "text": [
            "Testing data's RMSE: 0.4716619 \n",
            "Testing data's Confusion Matrix \n",
            "    test_Accuracy: 0.7023256 \n",
            "    test_Precision: 0.6756757 \n",
            "    test_Recall: 0.5555556 \n",
            "    test_F1 Score: 0.6097561"
          ]
        }
      ]
    },
    {
      "cell_type": "markdown",
      "source": [
        "## Plot the comparison"
      ],
      "metadata": {
        "id": "-0brAIa_gkuM"
      }
    },
    {
      "cell_type": "code",
      "source": [
        "cat(\"Summary:\\nTraining data's RMSE:\", rmse_train,\n",
        "    \"\\nTraining data's Confusion Matrix\",\n",
        "    \"\\n    train_Accuracy:\", train_acc,\n",
        "    \"\\n    train_Precision:\", train_prec,\n",
        "    \"\\n    train_Recall:\", train_rcall,\n",
        "    \"\\n    train_F1 Score:\", train_f1,\n",
        "    \"\\nTesting data's RMSE:\", rmse_test,\n",
        "    \"\\nTesting data's Confusion Matrix\",\n",
        "    \"\\n    test_Accuracy:\", test_acc,\n",
        "    \"\\n    test_Precision:\", test_prec,\n",
        "    \"\\n    test_Recall:\", test_rcall,\n",
        "    \"\\n    test_F1 Score:\", test_f1)\n",
        "\n",
        "combine_model_result <- data.frame(\n",
        "  Type = c('Train', 'Test'),\n",
        "  Accuracy = c(train_acc, test_acc),\n",
        "  Precision = c(train_prec, test_prec),\n",
        "  Recall = c(train_rcall, test_rcall),\n",
        "  F1_Score = c(train_f1, test_f1))\n",
        "\n",
        "\n",
        "# Prep data by pivot data from wide to long\n",
        "prep_data <- combine_model_result %>%\n",
        "  pivot_longer( - Type ,\n",
        "               names_to = \"ModEval_Type\",\n",
        "               values_to = \"percent\")\n",
        "\n",
        "ggplot(prep_data, aes(ModEval_Type, percent, fill = Type)) +\n",
        "  geom_bar(stat='identity', position = 'dodge') + #stat='identity' for mapping values to the y aesthetic\n",
        "  coord_cartesian(ylim = c(0.45, 0.8)) + #adjust y-axis scale limits\n",
        "  theme_minimal() +\n",
        "  labs(title = \"Train & Test Model Evaluation\",\n",
        "       x =\"Model Evaluation\", y=\"Percentage\")"
      ],
      "metadata": {
        "colab": {
          "base_uri": "https://localhost:8080/",
          "height": 663
        },
        "id": "62wHfmoRgurm",
        "outputId": "f1c58142-8dc8-42d4-b2ff-aa38386f7bc8"
      },
      "execution_count": null,
      "outputs": [
        {
          "output_type": "stream",
          "name": "stdout",
          "text": [
            "Summary:\n",
            "Training data's RMSE: 0.4507974 \n",
            "Training data's Confusion Matrix \n",
            "    train_Accuracy: 0.6953908 \n",
            "    train_Precision: 0.6578947 \n",
            "    train_Recall: 0.5 \n",
            "    train_F1 Score: 0.5681818 \n",
            "Testing data's RMSE: 0.4716619 \n",
            "Testing data's Confusion Matrix \n",
            "    test_Accuracy: 0.7023256 \n",
            "    test_Precision: 0.6756757 \n",
            "    test_Recall: 0.5555556 \n",
            "    test_F1 Score: 0.6097561"
          ]
        },
        {
          "output_type": "display_data",
          "data": {
            "text/plain": [
              "plot without title"
            ],
            "image/png": "[encoded data removed]"
          },
          "metadata": {
            "image/png": {
              "width": 420,
              "height": 420
            }
          }
        }
      ]
    }
  ]
}