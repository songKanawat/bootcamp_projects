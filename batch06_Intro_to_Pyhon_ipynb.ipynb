{
  "nbformat": 4,
  "nbformat_minor": 0,
  "metadata": {
    "colab": {
      "provenance": [],
      "toc_visible": true,
      "authorship_tag": "ABX9TyOxJOd4k1UnoBBn+2w7eESx",
      "include_colab_link": true
    },
    "kernelspec": {
      "name": "python3",
      "display_name": "Python 3"
    },
    "language_info": {
      "name": "python"
    }
  },
  "cells": [
    {
      "cell_type": "markdown",
      "metadata": {
        "id": "view-in-github",
        "colab_type": "text"
      },
      "source": [
        "<a href=\"https://colab.research.google.com/github/songKanawat/bootcamp_projects/blob/main/batch06_Intro_to_Pyhon_ipynb.ipynb\" target=\"_parent\"><img src=\"https://colab.research.google.com/assets/colab-badge.svg\" alt=\"Open In Colab\"/></a>"
      ]
    },
    {
      "cell_type": "code",
      "execution_count": null,
      "metadata": {
        "id": "-MaJBUTgxKUr"
      },
      "outputs": [],
      "source": [
        "#Google Colab"
      ]
    },
    {
      "cell_type": "code",
      "source": [
        "print(\"Hello world\")"
      ],
      "metadata": {
        "colab": {
          "base_uri": "https://localhost:8080/"
        },
        "id": "q1SucQtSxfXy",
        "outputId": "3c944234-f264-4aea-b6db-5140de333846"
      },
      "execution_count": null,
      "outputs": [
        {
          "output_type": "stream",
          "name": "stdout",
          "text": [
            "Hello world\n"
          ]
        }
      ]
    },
    {
      "cell_type": "code",
      "source": [
        "text = 'a duck walk into a bar'\n",
        "print(text)"
      ],
      "metadata": {
        "colab": {
          "base_uri": "https://localhost:8080/"
        },
        "id": "HZvej9T3Cp2w",
        "outputId": "cf36ed8c-dac1-41cb-b5a6-8ad747577f3f"
      },
      "execution_count": null,
      "outputs": [
        {
          "output_type": "stream",
          "name": "stdout",
          "text": [
            "a duck walk into a bar\n"
          ]
        }
      ]
    },
    {
      "cell_type": "code",
      "source": [
        "text.title()\n",
        "List_of_words = text.split(' ')"
      ],
      "metadata": {
        "id": "3ty4xCM1CuZg"
      },
      "execution_count": null,
      "outputs": []
    },
    {
      "cell_type": "code",
      "source": [
        "\"-\".join(List_of_words)"
      ],
      "metadata": {
        "colab": {
          "base_uri": "https://localhost:8080/",
          "height": 35
        },
        "id": "bG-fxMvGCvsH",
        "outputId": "22347982-ca9f-4e96-a930-ff3a21fb0a6c"
      },
      "execution_count": null,
      "outputs": [
        {
          "output_type": "execute_result",
          "data": {
            "text/plain": [
              "'a-duck-walk-into-a-bar'"
            ],
            "application/vnd.google.colaboratory.intrinsic+json": {
              "type": "string"
            }
          },
          "metadata": {},
          "execution_count": 6
        }
      ]
    },
    {
      "cell_type": "code",
      "source": [
        "score = int(input(\"Score : \"))\n",
        "\n",
        "if score >= 80:\n",
        "        print(\"Passed\")\n",
        "else:\n",
        "        print(\"Failed\")"
      ],
      "metadata": {
        "id": "ksV7Ls71DRch"
      },
      "execution_count": null,
      "outputs": []
    },
    {
      "cell_type": "code",
      "source": [
        "def grading(score: int)-> None :\n",
        "    if score >= 80:\n",
        "        print(\"Distinction\")\n",
        "    elif score >= 50:\n",
        "        print(\"Passed\")\n",
        "    else:\n",
        "        print(\"failed\")"
      ],
      "metadata": {
        "id": "jg7s-CHv6jVB"
      },
      "execution_count": null,
      "outputs": []
    },
    {
      "cell_type": "code",
      "source": [
        "grading(82)"
      ],
      "metadata": {
        "id": "_fsydhpN6-0J"
      },
      "execution_count": null,
      "outputs": []
    },
    {
      "cell_type": "code",
      "source": [
        "# for loop\n",
        "shopping_list = ['egg', 'milk', 'bread']\n",
        "new_list1 = []\n",
        "for item in shopping_list :\n",
        "   # print(f\"i have to but {item.upper()}\")\n",
        "   new_list.append(item.upper())\n",
        "\n",
        "print(new_list1)"
      ],
      "metadata": {
        "id": "lSfDivN27A0Z"
      },
      "execution_count": null,
      "outputs": []
    },
    {
      "cell_type": "code",
      "source": [
        "#list comprehension\n",
        "new_list = [item.upper() for item in shopping_list]\n",
        "print(new_list)"
      ],
      "metadata": {
        "id": "OVWfSxRNBx6C"
      },
      "execution_count": null,
      "outputs": []
    },
    {
      "cell_type": "code",
      "source": [
        "# if-else + for loop\n",
        "scores = [95, 90, 75, 79, 82]\n",
        "\n",
        "grade = []\n",
        "for score in scores:\n",
        "    if score >= 80:\n",
        "        grade.append(\"Passed\")\n",
        "    else:\n",
        "        grade.append(\"Failed\")\n",
        "print(grade)"
      ],
      "metadata": {
        "id": "_5jjgGcDCUiQ"
      },
      "execution_count": null,
      "outputs": []
    },
    {
      "cell_type": "code",
      "source": [
        "#while loop\n",
        "count = 0\n",
        "while count <5:\n",
        "    print(\"Hello\", count)\n",
        "    count += 1"
      ],
      "metadata": {
        "id": "WVnOC3MCC30m"
      },
      "execution_count": null,
      "outputs": []
    },
    {
      "cell_type": "code",
      "source": [
        "age = 24\n",
        "age += 1 # age =  age +1\n",
        "age /= 2 #age = age/2\n",
        "print(age)"
      ],
      "metadata": {
        "id": "iT7aCKTXDpoz"
      },
      "execution_count": null,
      "outputs": []
    },
    {
      "cell_type": "code",
      "source": [
        "# if else multiple condition\n",
        "print(True and True)\n",
        "print(True and False)\n",
        "print(False and False)\n",
        "print(False or True)"
      ],
      "metadata": {
        "id": "tXchi5XhD8cP"
      },
      "execution_count": null,
      "outputs": []
    },
    {
      "cell_type": "code",
      "source": [
        "weather = 'sunny'\n",
        "weekday = True\n",
        "\n",
        "if weather == 'sunny' and weekday :\n",
        "    print(\"Go to starbuck\")\n",
        "else :\n",
        "    print(\"Stay Home\")"
      ],
      "metadata": {
        "id": "VX1_7CDJEEqb"
      },
      "execution_count": null,
      "outputs": []
    },
    {
      "cell_type": "code",
      "source": [
        "#while loop\n",
        "count = 0\n",
        "while True:\n",
        "    print(count)\n",
        "    count += 1\n",
        "    if count == 10:\n",
        "        print(\"Program end\")\n",
        "        break"
      ],
      "metadata": {
        "id": "zBImQUM8FFO7"
      },
      "execution_count": null,
      "outputs": []
    },
    {
      "cell_type": "code",
      "source": [
        "def breaker(n):\n",
        "    count = 0\n",
        "    while True:\n",
        "        print(count)\n",
        "        count += 1\n",
        "        if count == n:\n",
        "            print(\"Program end\")\n",
        "            break"
      ],
      "metadata": {
        "id": "M03ThwyGFqat"
      },
      "execution_count": null,
      "outputs": []
    },
    {
      "cell_type": "code",
      "source": [
        "breaker(3)"
      ],
      "metadata": {
        "id": "XtI-Y5bMGNiU"
      },
      "execution_count": null,
      "outputs": []
    },
    {
      "cell_type": "markdown",
      "source": [
        "# **OOP**\n",
        "# **Object** Oriented Programing "
      ],
      "metadata": {
        "id": "n1gycTOVHQhn"
      }
    },
    {
      "cell_type": "code",
      "source": [
        "class Dog :\n",
        "    def __init__(self, name, age):\n",
        "        self.name = name\n",
        "        self.age = age\n",
        "    \n",
        "    def hello(self):\n",
        "        print(f\"Hi my name is {self.name}!\")\n",
        "    \n",
        "    def get_older(self):\n",
        "        self.age +=1\n",
        "        print(f\"I', getting older one year, I'm now {self.age} years old\")"
      ],
      "metadata": {
        "id": "t1KVvqg0HBSP"
      },
      "execution_count": null,
      "outputs": []
    },
    {
      "cell_type": "markdown",
      "source": [],
      "metadata": {
        "id": "clTzmI0oic0N"
      }
    },
    {
      "cell_type": "code",
      "source": [
        "dog1 = Dog(\"MIlo\", 3)\n",
        "dog2 = Dog(\"Ramboo\", 3)\n",
        "\n",
        "dog1.hello()\n",
        "dog2.hello()\n",
        "\n",
        "dog1.get_older()"
      ],
      "metadata": {
        "id": "1REl9WQWIMaO",
        "colab": {
          "base_uri": "https://localhost:8080/"
        },
        "outputId": "94c130c0-f25b-4dec-addd-b8881c059f65"
      },
      "execution_count": null,
      "outputs": [
        {
          "output_type": "stream",
          "name": "stdout",
          "text": [
            "Hi my name is MIlo!\n",
            "Hi my name is Ramboo!\n",
            "I', getting older one year, I'm now4 years old\n"
          ]
        }
      ]
    },
    {
      "cell_type": "code",
      "source": [
        "print(dog1.name, dog1.age) "
      ],
      "metadata": {
        "id": "mqy2OVCXIPvn",
        "colab": {
          "base_uri": "https://localhost:8080/"
        },
        "outputId": "cd6c3528-82ca-4f69-9c72-5d0ed906ea51"
      },
      "execution_count": null,
      "outputs": [
        {
          "output_type": "stream",
          "name": "stdout",
          "text": [
            "MIlo 4\n"
          ]
        }
      ]
    },
    {
      "cell_type": "code",
      "source": [
        "# ATM\n",
        "# deposit\n",
        "# Check balance\n",
        "# witthdraw"
      ],
      "metadata": {
        "id": "DrAyAN_HjK2A"
      },
      "execution_count": null,
      "outputs": []
    },
    {
      "cell_type": "code",
      "source": [
        "class ATM:\n",
        "    def __init__(self, name, balance):\n",
        "        self.name = name\n",
        "        self.balance = balance\n",
        "\n",
        "    def check_balance(self):\n",
        "        message = f\"Account: {self.name}, Balance : {self.balance}\"\n",
        "        print(message)\n",
        "\n",
        "    def deposit(self, money):\n",
        "        self.balance += money\n",
        "        print(f\"New balance :{self.balance} \")\n",
        "        print(\"Deposit successfully.\")\n",
        "\n",
        "    def chg_name(self, New_Acc_name):\n",
        "        self.name = New_Acc_name\n",
        "        print(f\"New name: {self.name}\")\n",
        "        print(\"Your account name has been changed.\")"
      ],
      "metadata": {
        "id": "xD5jMClOjNxo"
      },
      "execution_count": null,
      "outputs": []
    },
    {
      "cell_type": "code",
      "source": [
        "scb = ATM(\"Anna\", 500)\n",
        "scb.deposit(500)"
      ],
      "metadata": {
        "colab": {
          "base_uri": "https://localhost:8080/"
        },
        "id": "0WULrfdpjbs3",
        "outputId": "bd0a0ae1-f007-48b4-bbf0-bde0f5edf3cd"
      },
      "execution_count": null,
      "outputs": [
        {
          "output_type": "stream",
          "name": "stdout",
          "text": [
            "New balance :1000 \n",
            "Deposit successfully.\n"
          ]
        }
      ]
    },
    {
      "cell_type": "code",
      "source": [
        "scb.chg_name(\"Song\")"
      ],
      "metadata": {
        "colab": {
          "base_uri": "https://localhost:8080/"
        },
        "id": "BF2tUXCpl5n0",
        "outputId": "8c1fa193-99ec-46cf-8a98-513b2ea49dc4"
      },
      "execution_count": null,
      "outputs": [
        {
          "output_type": "stream",
          "name": "stdout",
          "text": [
            "New name: Song\n",
            "Your account name has been changed.\n"
          ]
        }
      ]
    },
    {
      "cell_type": "code",
      "source": [],
      "metadata": {
        "id": "07_1pqzYUSY3"
      },
      "execution_count": null,
      "outputs": []
    },
    {
      "cell_type": "code",
      "source": [
        "scb.check_balance()"
      ],
      "metadata": {
        "colab": {
          "base_uri": "https://localhost:8080/",
          "height": 165
        },
        "id": "CXziNEX1kXaN",
        "outputId": "f557b48c-e129-49b9-eda4-35492472669c"
      },
      "execution_count": 1,
      "outputs": [
        {
          "output_type": "error",
          "ename": "NameError",
          "evalue": "ignored",
          "traceback": [
            "\u001b[0;31m---------------------------------------------------------------------------\u001b[0m",
            "\u001b[0;31mNameError\u001b[0m                                 Traceback (most recent call last)",
            "\u001b[0;32m<ipython-input-1-38e9e651de61>\u001b[0m in \u001b[0;36m<module>\u001b[0;34m\u001b[0m\n\u001b[0;32m----> 1\u001b[0;31m \u001b[0mscb\u001b[0m\u001b[0;34m.\u001b[0m\u001b[0mcheck_balance\u001b[0m\u001b[0;34m(\u001b[0m\u001b[0;34m)\u001b[0m\u001b[0;34m\u001b[0m\u001b[0;34m\u001b[0m\u001b[0m\n\u001b[0m",
            "\u001b[0;31mNameError\u001b[0m: name 'scb' is not defined"
          ]
        }
      ]
    },
    {
      "cell_type": "code",
      "source": [
        "class ATM():\n",
        "    def __init__(self, name, balance, PIN):\n",
        "        self.name = name\n",
        "        self.balance = balance\n",
        "        self.PIN = PIN\n",
        "    \n",
        "    def deposit(self, money):\n",
        "        self.balance += money\n",
        "        print(\"Deposit Successful\")\n",
        "        print(f\"You've successfully deposited {money} Baht\")\n",
        "        print(f\"New balance: {self.balance} Baht\")\n",
        "\n",
        "    def withdraw(self, money):\n",
        "        if money > self.balance:\n",
        "            print(f\"Your balance: {self.balance} Baht\")\n",
        "            print(\"Your account has insufficient funds for this transaction.\")\n",
        "        else:\n",
        "            self.balance -= money\n",
        "            print(\"Withdrawal Successful\")\n",
        "            print(f\"You've successfully withdrawn {money} Baht\")\n",
        "            print(f\"New balance: {self.balance} Baht\")\n",
        "\n",
        "    def fast_cash(self):\n",
        "        print('\\nPlease select the withdrawal amount')\n",
        "        print(\"(1) 300 Baht\\n(2) 500 Baht\\n(3) 1000 Baht\\n(4) 3000 Baht\\n(5) 5000 Baht\")\n",
        "        num = int(input(\"Enter a number (1-5): \"))\n",
        "        fcash = 0\n",
        "        if num == 1:\n",
        "            fcash = 300\n",
        "            if fcash > self.balance:\n",
        "                print(f\"\\nYour balance: {self.balance} Baht\")\n",
        "                print(\"Your account has insufficient funds for this transaction.\")\n",
        "            else:\n",
        "                self.balance -= fcash\n",
        "                print(\"\\nWithdrawal successful\")\n",
        "                print(f\"You've successfully withdrawn {fcash} Baht\")\n",
        "                print(f\"New balance: {self.balance} Baht\")\n",
        "        elif num == 2:\n",
        "            fcash = 500\n",
        "            if fcash > self.balance:\n",
        "                print(f\"\\nYour balance: {self.balance} Baht\")\n",
        "                print(\"Your account has insufficient funds for this transaction.\")\n",
        "            else:\n",
        "                self.balance -= fcash\n",
        "                print(\"\\nWithdrawal successful\")\n",
        "                print(f\"You've successfully withdrawn {fcash} Baht\")\n",
        "                print(f\"New balance: {self.balance} Baht\")\n",
        "        elif num == 3:\n",
        "            fcash = 1000\n",
        "            if fcash > self.balance:\n",
        "                print(f\"\\nYour balance: {self.balance} Baht\")\n",
        "                print(\"Your account has insufficient funds for this transaction.\")\n",
        "            else:\n",
        "                self.balance -= fcash\n",
        "                print(\"\\nWithdrawal successful\")\n",
        "                print(f\"You've successfully withdrawn {fcash} Baht\")\n",
        "                print(f\"New balance: {self.balance} Baht\")\n",
        "        elif num == 4:\n",
        "            fcash = 3000\n",
        "            if fcash > self.balance:\n",
        "                print(f\"\\nYour balance: {self.balance} Baht\")\n",
        "                print(\"Your account has insufficient funds for this transaction.\")\n",
        "            else:\n",
        "                self.balance -= fcash\n",
        "                print(\"\\nWithdrawal successful\")\n",
        "                print(f\"You've successfully withdrawn {fcash} Baht\")\n",
        "                print(f\"New balance: {self.balance} Baht\")\n",
        "        elif num == 5:\n",
        "            fcash = 5000\n",
        "            if fcash > self.balance:\n",
        "                print(f\"\\nYour balance: {self.balance} Baht\")\n",
        "                print(\"Your account has insufficient funds for this transaction.\")\n",
        "            else:\n",
        "                self.balance -= fcash\n",
        "                print(\"\\nWithdrawal successful\")\n",
        "                print(f\"You've successfully withdrawn {fcash} Baht\")\n",
        "                print(f\"New balance: {self.balance} Baht\")\n",
        "        else:\n",
        "            print(f'\\n{num} is an invalid number. Please try again...')\n",
        "\n",
        "    def transfer(self, receiver_acc_name, money):\n",
        "        if money > self.balance:\n",
        "            print(f\"Your balance: {self.balance} Baht\")\n",
        "            print(\"Your account has insufficient funds for this transaction.\")\n",
        "        else:\n",
        "            self.balance -= money\n",
        "            print(\"Transfer Successful\")\n",
        "            print(f\"You've successfully transferred {money} Baht to {receiver_acc_name}\")\n",
        "            print(f\"New balance: {self.balance} Baht\")\n",
        "    \n",
        "    def change_PIN(self):\n",
        "        new_PIN = input(\"\\nEnter new PIN: \")\n",
        "        reenter_new_PIN = input(\"Reenter new PIN: \")\n",
        "        if new_PIN == reenter_new_PIN:\n",
        "            self.PIN = new_PIN\n",
        "            print(\"\\nYour PIN has been changed.\")\n",
        "        else:\n",
        "            print(\"\\nNew PIN does not match.\")\n",
        "            print(\"Failed to change PIN.\")"
      ],
      "metadata": {
        "id": "hAS-tvuhUYJN"
      },
      "execution_count": null,
      "outputs": []
    }
  ]
}